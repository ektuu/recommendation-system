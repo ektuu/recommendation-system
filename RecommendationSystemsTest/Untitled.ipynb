{
 "cells": [
  {
   "cell_type": "code",
   "execution_count": 156,
   "id": "ccc8c7ee",
   "metadata": {},
   "outputs": [],
   "source": [
    "import pandas as pd\n",
    "import numpy as np\n",
    "from sklearn.metrics.pairwise import cosine_similarity\n",
    "from sklearn.preprocessing import OneHotEncoder\n",
    "from sklearn.decomposition import TruncatedSVD\n",
    "from sklearn.neighbors import NearestNeighbors\n",
    "from scipy.sparse import csr_matrix"
   ]
  },
  {
   "cell_type": "code",
   "execution_count": 143,
   "id": "7a0e30ad",
   "metadata": {},
   "outputs": [],
   "source": [
    "products = pd.read_csv('products.csv')"
   ]
  },
  {
   "cell_type": "code",
   "execution_count": 144,
   "id": "948bec9d",
   "metadata": {
    "scrolled": true
   },
   "outputs": [
    {
     "name": "stdout",
     "output_type": "stream",
     "text": [
      "   Id   Brand         Category     Type   Color Size  Price\n",
      "0   1  Adidas    Men's Fashion    Dress   Black   XL     40\n",
      "1   2     H&M  Women's Fashion    Shoes   Black    L     82\n",
      "2   3  Adidas  Women's Fashion    Dress  Yellow   XL     44\n",
      "3   4    Zara    Men's Fashion    Shoes   White    S     23\n",
      "4   5  Adidas    Men's Fashion  T-shirt   Black    M     79\n"
     ]
    }
   ],
   "source": [
    "print(products.head())"
   ]
  },
  {
   "cell_type": "code",
   "execution_count": 161,
   "id": "ca5d4f80",
   "metadata": {},
   "outputs": [
    {
     "name": "stdout",
     "output_type": "stream",
     "text": [
      "       Id         0         1         2         3         4         5  \\\n",
      "0       1  1.016298 -0.438497  0.699128  0.596664 -0.166325 -0.215168   \n",
      "1       2  1.066204 -0.332802 -0.652976 -0.145217  0.185796  0.754863   \n",
      "2       3  1.045318 -0.761346 -0.736471  0.413838 -0.186159 -0.420028   \n",
      "3       4  1.108539 -0.293838  0.966454 -0.317575  0.434091 -0.057442   \n",
      "4       5  1.033990 -0.227593  0.925274 -0.825005 -0.423071 -0.138410   \n",
      "..    ...       ...       ...       ...       ...       ...       ...   \n",
      "995   996  1.070255 -0.542435 -0.372960 -0.937580 -0.547990 -0.398467   \n",
      "996   997  1.065053  0.926152 -0.246278  0.168690  0.065477  0.753570   \n",
      "997   998  1.054590 -0.206431  0.832007  0.046202 -0.315185  1.093893   \n",
      "998   999  1.067339 -0.493632 -0.336372 -0.464436  0.638075 -0.322161   \n",
      "999  1000  1.113347 -0.480316 -0.687854 -0.359417 -0.159307  0.876721   \n",
      "\n",
      "            6         7         8  ...        13        14        15  \\\n",
      "0   -0.472892  0.134314 -0.488986  ...  0.238188 -0.004564  0.834062   \n",
      "1   -0.609598 -0.717104  0.122684  ... -0.191363 -0.640363  0.272544   \n",
      "2   -0.433022  0.290408 -0.611941  ... -0.389773  0.410402  0.758944   \n",
      "3   -0.800971 -0.409243  0.608724  ...  0.044510  0.411439 -0.191159   \n",
      "4    0.137063  0.490935 -0.274482  ... -0.231749 -0.484995  0.440650   \n",
      "..        ...       ...       ...  ...       ...       ...       ...   \n",
      "995 -0.455151 -0.627776  0.329134  ... -0.048472 -0.605528  0.220799   \n",
      "996  0.258289  0.332180  0.207580  ... -0.175992 -0.023506 -0.758361   \n",
      "997 -0.445696 -0.065862 -0.226853  ... -0.285119  0.511813 -0.619412   \n",
      "998 -0.369119  0.438741 -0.316374  ...  0.213255 -0.731074 -0.188262   \n",
      "999 -0.822318 -0.215789  0.419613  ... -0.221065  0.373293 -0.314475   \n",
      "\n",
      "           16        17        18            19            20            21  \\\n",
      "0    0.840101  0.394981 -0.117561  5.412337e-16  1.110223e-16  1.387779e-16   \n",
      "1    0.464289 -0.248380 -0.504760  1.110223e-16  5.551115e-17 -2.775558e-16   \n",
      "2   -0.123386  0.354116  0.196999  3.053113e-16  1.110223e-16  3.053113e-16   \n",
      "3   -0.269309 -0.040707 -0.067184 -8.326673e-17 -3.885781e-16  1.665335e-16   \n",
      "4    0.648877 -0.055866 -0.413691  2.914335e-16  1.110223e-16 -1.942890e-16   \n",
      "..        ...       ...       ...           ...           ...           ...   \n",
      "995  0.620889 -0.061313 -0.361143  1.387779e-17 -5.551115e-16 -8.326673e-17   \n",
      "996  0.276730  0.886489 -0.099363 -2.220446e-16  1.665335e-16  5.551115e-17   \n",
      "997  0.206749  0.041439 -0.084871 -4.163336e-17 -2.775558e-16 -1.665335e-16   \n",
      "998 -0.630654 -0.290567 -0.304447 -2.914335e-16 -5.551115e-16  1.110223e-16   \n",
      "999 -0.000696 -0.056236 -0.197749 -1.526557e-16  1.665335e-16  2.220446e-16   \n",
      "\n",
      "               22  \n",
      "0    6.938894e-18  \n",
      "1    2.602085e-17  \n",
      "2   -3.053113e-16  \n",
      "3   -3.816392e-17  \n",
      "4    8.673617e-17  \n",
      "..            ...  \n",
      "995 -3.851086e-16  \n",
      "996 -3.694961e-16  \n",
      "997 -3.642919e-17  \n",
      "998 -5.447032e-16  \n",
      "999 -6.418477e-17  \n",
      "\n",
      "[1000 rows x 24 columns]\n"
     ]
    }
   ],
   "source": [
    "# One-Hot Encoding of categorical data\n",
    "categorical_features = ['Brand', 'Category', 'Type', 'Color', 'Size']\n",
    "encoder = OneHotEncoder()\n",
    "encoded_features = encoder.fit_transform(products[categorical_features])\n",
    "encoded_df = pd.DataFrame(encoded_features.toarray(), columns=encoder.get_feature_names_out(categorical_features))\n",
    "\n",
    "# Combine with product ID and Price\n",
    "product_vectors = pd.concat([products[['Id', 'Price']], encoded_df], axis=1)\n",
    "\n",
    "print(product_vectors)"
   ]
  },
  {
   "cell_type": "code",
   "execution_count": 158,
   "id": "d39d0c44",
   "metadata": {},
   "outputs": [
    {
     "name": "stdout",
     "output_type": "stream",
     "text": [
      "User Interactions Data (Initially Empty):\n",
      "   userID  productID interaction\n",
      "0       1          1     dislike\n",
      "1       1          4     dislike\n",
      "2       1          5     dislike\n",
      "3       1          6        like\n",
      "4       1          7     dislike\n",
      "5       1          9        like\n",
      "6       1         11        like\n"
     ]
    }
   ],
   "source": [
    "# Load the empty user interactions file\n",
    "user_interactions_df = pd.read_csv('user_interactions.csv')\n",
    "\n",
    "print(\"User Interactions Data (Initially Empty):\")\n",
    "print(user_interactions_df)"
   ]
  },
  {
   "cell_type": "code",
   "execution_count": 162,
   "id": "76b9e8bb",
   "metadata": {},
   "outputs": [
    {
     "name": "stdout",
     "output_type": "stream",
     "text": [
      "Products User has Interacted With:\n",
      " [ 1  4  5  6  7  9 11]\n",
      "Filtered Products (excluding interacted):\n",
      "       Id   Brand       Category     Type   Color Size  Price\n",
      "14    15    Zara  Men's Fashion    Shoes  Yellow    M     54\n",
      "19    20   Gucci  Men's Fashion    Dress   Green    L     53\n",
      "20    21     H&M  Men's Fashion    Jeans  Yellow    S     56\n",
      "42    43  Adidas  Men's Fashion  T-shirt   White    M     39\n",
      "45    46    Zara  Men's Fashion    Dress  Yellow   XL     38\n",
      "..   ...     ...            ...      ...     ...  ...    ...\n",
      "964  965    Nike  Men's Fashion  Sweater  Yellow    S     55\n",
      "970  971     H&M  Men's Fashion    Shoes   Green   XL     45\n",
      "982  983    Zara  Men's Fashion    Dress     Red   XL     50\n",
      "987  988     H&M  Men's Fashion  T-shirt    Blue   XL     56\n",
      "997  998    Zara  Men's Fashion  Sweater   White    L     47\n",
      "\n",
      "[110 rows x 7 columns]\n"
     ]
    }
   ],
   "source": [
    "# Identify products user has interacted with\n",
    "user_id = 1  # Assuming we're working with user ID 1\n",
    "interacted_product_ids = user_interactions_df[user_interactions_df['userID'] == user_id]['productID'].unique()\n",
    "print(\"Products User has Interacted With:\\n\", interacted_product_ids)\n",
    "\n",
    "# Define user's category and price filters and exclude interacted products\n",
    "user_category = \"Men's Fashion\"\n",
    "price_lower = 30\n",
    "price_upper = 60\n",
    "\n",
    "filtered_products = products[\n",
    "    (products['Category'].str.lower() == user_category.lower()) &\n",
    "    (products['Price'] >= price_lower) &\n",
    "    (products['Price'] <= price_upper) &\n",
    "    (~products['Id'].isin(interacted_product_ids))  # Exclude interacted products\n",
    "]\n",
    "\n",
    "print(\"Filtered Products (excluding interacted):\\n\", filtered_products)"
   ]
  },
  {
   "cell_type": "code",
   "execution_count": 164,
   "id": "4d0404ca",
   "metadata": {},
   "outputs": [
    {
     "name": "stdout",
     "output_type": "stream",
     "text": [
      "      Id         0         1         2         3         4         5  \\\n",
      "0     15  1.085719 -0.343884  0.867678 -0.828459 -0.676487 -0.274307   \n",
      "1     20  1.007616 -0.290483  0.470443 -0.013464  0.065301  0.979147   \n",
      "2     21  1.088271 -0.284661  0.751642  0.231882  0.894288 -0.122524   \n",
      "3     43  1.076649 -0.300025  0.906436 -0.767102 -0.625636  0.016953   \n",
      "4     46  1.044272 -0.521553  0.705886  0.604566 -0.395126 -0.271297   \n",
      "..   ...       ...       ...       ...       ...       ...       ...   \n",
      "105  965  1.043617 -0.176747  0.826580  0.070319  0.830998 -0.180733   \n",
      "106  971  1.064988 -0.318605  0.744719  0.582500 -0.077383 -0.190515   \n",
      "107  983  1.017798 -0.500535  0.741792  0.644438 -0.241930 -0.176804   \n",
      "108  988  1.057656 -0.274700  0.818139  0.720151 -0.162199 -0.187210   \n",
      "109  998  1.054590 -0.206431  0.832007  0.046202 -0.315185  1.093893   \n",
      "\n",
      "            6         7         8  ...        13        14        15  \\\n",
      "0   -0.244076 -0.523676  0.291518  ... -0.471031 -0.011577  0.436448   \n",
      "1    0.171190 -0.215040 -0.079771  ...  0.783255  0.410434  0.502147   \n",
      "2    0.727626 -0.409067 -0.436383  ... -0.489108  0.202462  0.338034   \n",
      "3   -0.045961  0.794723 -0.118042  ... -0.174615  0.343225 -0.151201   \n",
      "4   -0.422674  0.062842 -0.444305  ... -0.164659  0.254597  0.976685   \n",
      "..        ...       ...       ...  ...       ...       ...       ...   \n",
      "105  0.240167  0.430541  0.141315  ... -0.745634  0.560695 -0.179104   \n",
      "106 -0.516902 -0.619053  0.244278  ... -0.091721 -0.471095 -0.146752   \n",
      "107 -0.514217  0.101455 -0.187285  ...  0.324170 -0.111589  0.533212   \n",
      "108 -0.358606  0.433998 -0.543956  ...  0.154528 -0.800328 -0.033047   \n",
      "109 -0.445696 -0.065862 -0.226853  ... -0.285119  0.511813 -0.619412   \n",
      "\n",
      "           16        17        18            19            20            21  \\\n",
      "0   -0.496285 -0.028802  0.104708  0.000000e+00 -1.665335e-16  8.326673e-17   \n",
      "1   -0.060317  0.973368  0.272900  5.551115e-17  1.665335e-16  5.551115e-17   \n",
      "2   -0.606453 -0.345743 -0.048514 -1.110223e-16  1.110223e-16  0.000000e+00   \n",
      "3    0.017985 -0.130278 -0.073246  3.608225e-16  2.220446e-16 -2.775558e-17   \n",
      "4   -0.351970  0.402418  0.373247  3.608225e-16 -2.220446e-16  2.775558e-17   \n",
      "..        ...       ...       ...           ...           ...           ...   \n",
      "105 -0.079290 -0.011502 -0.363569 -2.775558e-16 -5.551115e-17  5.551115e-17   \n",
      "106 -0.331922  0.736893  0.249050  6.522560e-16  5.551115e-16  2.498002e-16   \n",
      "107  0.293646  0.090206  1.193030  5.689893e-16 -1.110223e-16  2.775558e-17   \n",
      "108 -0.660218 -0.382992 -0.152378  6.245005e-16  2.775558e-16 -2.775558e-17   \n",
      "109  0.206749  0.041439 -0.084871 -4.163336e-17 -2.775558e-16 -1.665335e-16   \n",
      "\n",
      "               22  \n",
      "0    2.428613e-17  \n",
      "1   -6.418477e-17  \n",
      "2    3.226586e-16  \n",
      "3   -3.469447e-18  \n",
      "4   -1.665335e-16  \n",
      "..            ...  \n",
      "105  2.116363e-16  \n",
      "106 -2.220446e-16  \n",
      "107 -9.020562e-17  \n",
      "108 -1.179612e-16  \n",
      "109 -3.642919e-17  \n",
      "\n",
      "[110 rows x 24 columns]\n"
     ]
    }
   ],
   "source": [
    "\n",
    "# Reset index for proper concatenation\n",
    "filtered_products_reset = filtered_products.reset_index(drop=True)\n",
    "\n",
    "# Apply dimensionality reduction on filtered products\n",
    "encoded_filtered_features = encoder.transform(filtered_products_reset[categorical_features])\n",
    "reduced_filtered_features = svd.transform(encoded_filtered_features)\n",
    "# print(\"Reduced Filtered Features Shape:\", reduced_filtered_features.shape)\n",
    "\n",
    "# Combine with filtered product ID\n",
    "filtered_product_vectors_reduced = pd.concat(\n",
    "    [filtered_products_reset[['Id']].reset_index(drop=True), pd.DataFrame(reduced_filtered_features)],\n",
    "    axis=1\n",
    ")\n",
    "print(filtered_product_vectors_reduced)"
   ]
  },
  {
   "cell_type": "code",
   "execution_count": 149,
   "id": "89f87a9d",
   "metadata": {},
   "outputs": [],
   "source": [
    "# Function to create user preference vector\n",
    "def get_preference_vector(user_id, interactions, product_vectors):\n",
    "    user_interactions = interactions[interactions['userID'] == user_id]\n",
    "    preference_vector = np.zeros(product_vectors.shape[1] - 1)  # Exclude 'Id'\n",
    "    interaction_weights = {\n",
    "        'like': 2,\n",
    "        'dislike': -1,\n",
    "        'add to cart': 4,\n",
    "        'add to collection': 3,\n",
    "        'bought': 5\n",
    "    }\n",
    "    for _, interaction in user_interactions.iterrows():\n",
    "        product_id = interaction['productID']\n",
    "        interaction_type = interaction['interaction']\n",
    "        weight = interaction_weights.get(interaction_type, 0)\n",
    "        product_vector = product_vectors[product_vectors['Id'] == product_id].drop(columns=['Id']).values.flatten()\n",
    "        preference_vector += weight * product_vector\n",
    "    return preference_vector"
   ]
  },
  {
   "cell_type": "code",
   "execution_count": 150,
   "id": "e5e83d99",
   "metadata": {},
   "outputs": [
    {
     "name": "stdout",
     "output_type": "stream",
     "text": [
      "[ 2. -1.  2.  0. -1.  0.  2.  0.  1. -1. -1.  2.  1. -2.  0.  2.  2. -2.\n",
      "  2.  2. -1.  1.  0.]\n",
      "User Preference Vector Shape: (23,)\n",
      "User Preference Vector:\n",
      " [ 2. -1.  2.  0. -1.  0.  2.  0.  1. -1. -1.  2.  1. -2.  0.  2.  2. -2.\n",
      "  2.  2. -1.  1.  0.]\n"
     ]
    }
   ],
   "source": [
    "# Get user preference vector for user 1\n",
    "if not user_interactions_df.empty:\n",
    "    user_preference_vector = get_preference_vector(user_id, user_interactions_df, product_vectors_reduced)\n",
    "    if user_preference_vector.size == 0:\n",
    "        print(\"User Preference Vector is empty.\")\n",
    "else:\n",
    "    user_preference_vector = None\n",
    "\n",
    "# Debugging: Check the user preference vector\n",
    "if user_preference_vector is not None:\n",
    "    print(\"User Preference Vector Shape:\", user_preference_vector.shape)\n",
    "    print(\"User Preference Vector:\\n\", user_preference_vector)"
   ]
  },
  {
   "cell_type": "code",
   "execution_count": 151,
   "id": "b6468226",
   "metadata": {},
   "outputs": [],
   "source": [
    "# Function to recommend products based on cosine similarity\n",
    "def recommend_products(user_preference_vector, filtered_product_vectors, top_n=10):\n",
    "    if user_preference_vector is None:\n",
    "        # Return top_n filtered products directly if no user interactions\n",
    "        return filtered_product_vectors.head(top_n)\n",
    "    \n",
    "    product_matrix = filtered_product_vectors.drop(columns=['Id']).values\n",
    "    \n",
    "    # Check dimensions before cosine similarity\n",
    "    if user_preference_vector.size != product_matrix.shape[1]:\n",
    "        raise ValueError(\"User preference vector size does not match the product matrix.\")\n",
    "    \n",
    "    similarities = cosine_similarity(user_preference_vector.reshape(1, -1), product_matrix)\n",
    "    similarity_scores = similarities.flatten()\n",
    "    product_indices = np.argsort(similarity_scores)[::-1]\n",
    "    recommended_products = filtered_product_vectors.iloc[product_indices[:top_n]]\n",
    "    return recommended_products"
   ]
  },
  {
   "cell_type": "code",
   "execution_count": 165,
   "id": "b8b71899",
   "metadata": {},
   "outputs": [
    {
     "ename": "KeyError",
     "evalue": "\"['Price'] not found in axis\"",
     "output_type": "error",
     "traceback": [
      "\u001b[0;31m---------------------------------------------------------------------------\u001b[0m",
      "\u001b[0;31mKeyError\u001b[0m                                  Traceback (most recent call last)",
      "Cell \u001b[0;32mIn[165], line 2\u001b[0m\n\u001b[1;32m      1\u001b[0m \u001b[38;5;66;03m# Recommend top 10 products for user 1\u001b[39;00m\n\u001b[0;32m----> 2\u001b[0m recommended_products \u001b[38;5;241m=\u001b[39m recommend_products(user_preference_vector, filtered_product_vectors_reduced, top_n\u001b[38;5;241m=\u001b[39m\u001b[38;5;241m10\u001b[39m)\n\u001b[1;32m      3\u001b[0m \u001b[38;5;28mprint\u001b[39m(\u001b[38;5;124m\"\u001b[39m\u001b[38;5;124mRecommended Products Vectors:\u001b[39m\u001b[38;5;130;01m\\n\u001b[39;00m\u001b[38;5;124m\"\u001b[39m, recommended_products)\n\u001b[1;32m      5\u001b[0m \u001b[38;5;66;03m# Convert recommended_products back to original format\u001b[39;00m\n",
      "Cell \u001b[0;32mIn[151], line 7\u001b[0m, in \u001b[0;36mrecommend_products\u001b[0;34m(user_preference_vector, filtered_product_vectors, top_n)\u001b[0m\n\u001b[1;32m      3\u001b[0m     \u001b[38;5;28;01mif\u001b[39;00m user_preference_vector \u001b[38;5;129;01mis\u001b[39;00m \u001b[38;5;28;01mNone\u001b[39;00m:\n\u001b[1;32m      4\u001b[0m         \u001b[38;5;66;03m# Return top_n filtered products directly if no user interactions\u001b[39;00m\n\u001b[1;32m      5\u001b[0m         \u001b[38;5;28;01mreturn\u001b[39;00m filtered_product_vectors\u001b[38;5;241m.\u001b[39mhead(top_n)\n\u001b[0;32m----> 7\u001b[0m     product_matrix \u001b[38;5;241m=\u001b[39m filtered_product_vectors\u001b[38;5;241m.\u001b[39mdrop(columns\u001b[38;5;241m=\u001b[39m[\u001b[38;5;124m'\u001b[39m\u001b[38;5;124mId\u001b[39m\u001b[38;5;124m'\u001b[39m, \u001b[38;5;124m'\u001b[39m\u001b[38;5;124mPrice\u001b[39m\u001b[38;5;124m'\u001b[39m])\u001b[38;5;241m.\u001b[39mvalues\n\u001b[1;32m      9\u001b[0m     \u001b[38;5;66;03m# Debugging: Check the product matrix\u001b[39;00m\n\u001b[1;32m     10\u001b[0m \u001b[38;5;66;03m#     print(\"Product Matrix Shape:\", product_matrix.shape)\u001b[39;00m\n\u001b[1;32m     11\u001b[0m \u001b[38;5;66;03m#     print(\"Product Matrix Sample:\\n\", product_matrix[:5])\u001b[39;00m\n\u001b[1;32m     13\u001b[0m     \u001b[38;5;28;01mif\u001b[39;00m user_preference_vector\u001b[38;5;241m.\u001b[39msize \u001b[38;5;241m!=\u001b[39m product_matrix\u001b[38;5;241m.\u001b[39mshape[\u001b[38;5;241m1\u001b[39m]:\n",
      "File \u001b[0;32m~/anaconda3/lib/python3.11/site-packages/pandas/util/_decorators.py:331\u001b[0m, in \u001b[0;36mdeprecate_nonkeyword_arguments.<locals>.decorate.<locals>.wrapper\u001b[0;34m(*args, **kwargs)\u001b[0m\n\u001b[1;32m    325\u001b[0m \u001b[38;5;28;01mif\u001b[39;00m \u001b[38;5;28mlen\u001b[39m(args) \u001b[38;5;241m>\u001b[39m num_allow_args:\n\u001b[1;32m    326\u001b[0m     warnings\u001b[38;5;241m.\u001b[39mwarn(\n\u001b[1;32m    327\u001b[0m         msg\u001b[38;5;241m.\u001b[39mformat(arguments\u001b[38;5;241m=\u001b[39m_format_argument_list(allow_args)),\n\u001b[1;32m    328\u001b[0m         \u001b[38;5;167;01mFutureWarning\u001b[39;00m,\n\u001b[1;32m    329\u001b[0m         stacklevel\u001b[38;5;241m=\u001b[39mfind_stack_level(),\n\u001b[1;32m    330\u001b[0m     )\n\u001b[0;32m--> 331\u001b[0m \u001b[38;5;28;01mreturn\u001b[39;00m func(\u001b[38;5;241m*\u001b[39margs, \u001b[38;5;241m*\u001b[39m\u001b[38;5;241m*\u001b[39mkwargs)\n",
      "File \u001b[0;32m~/anaconda3/lib/python3.11/site-packages/pandas/core/frame.py:5399\u001b[0m, in \u001b[0;36mDataFrame.drop\u001b[0;34m(self, labels, axis, index, columns, level, inplace, errors)\u001b[0m\n\u001b[1;32m   5251\u001b[0m \u001b[38;5;129m@deprecate_nonkeyword_arguments\u001b[39m(version\u001b[38;5;241m=\u001b[39m\u001b[38;5;28;01mNone\u001b[39;00m, allowed_args\u001b[38;5;241m=\u001b[39m[\u001b[38;5;124m\"\u001b[39m\u001b[38;5;124mself\u001b[39m\u001b[38;5;124m\"\u001b[39m, \u001b[38;5;124m\"\u001b[39m\u001b[38;5;124mlabels\u001b[39m\u001b[38;5;124m\"\u001b[39m])\n\u001b[1;32m   5252\u001b[0m \u001b[38;5;28;01mdef\u001b[39;00m \u001b[38;5;21mdrop\u001b[39m(  \u001b[38;5;66;03m# type: ignore[override]\u001b[39;00m\n\u001b[1;32m   5253\u001b[0m     \u001b[38;5;28mself\u001b[39m,\n\u001b[0;32m   (...)\u001b[0m\n\u001b[1;32m   5260\u001b[0m     errors: IgnoreRaise \u001b[38;5;241m=\u001b[39m \u001b[38;5;124m\"\u001b[39m\u001b[38;5;124mraise\u001b[39m\u001b[38;5;124m\"\u001b[39m,\n\u001b[1;32m   5261\u001b[0m ) \u001b[38;5;241m-\u001b[39m\u001b[38;5;241m>\u001b[39m DataFrame \u001b[38;5;241m|\u001b[39m \u001b[38;5;28;01mNone\u001b[39;00m:\n\u001b[1;32m   5262\u001b[0m \u001b[38;5;250m    \u001b[39m\u001b[38;5;124;03m\"\"\"\u001b[39;00m\n\u001b[1;32m   5263\u001b[0m \u001b[38;5;124;03m    Drop specified labels from rows or columns.\u001b[39;00m\n\u001b[1;32m   5264\u001b[0m \n\u001b[0;32m   (...)\u001b[0m\n\u001b[1;32m   5397\u001b[0m \u001b[38;5;124;03m            weight  1.0     0.8\u001b[39;00m\n\u001b[1;32m   5398\u001b[0m \u001b[38;5;124;03m    \"\"\"\u001b[39;00m\n\u001b[0;32m-> 5399\u001b[0m     \u001b[38;5;28;01mreturn\u001b[39;00m \u001b[38;5;28msuper\u001b[39m()\u001b[38;5;241m.\u001b[39mdrop(\n\u001b[1;32m   5400\u001b[0m         labels\u001b[38;5;241m=\u001b[39mlabels,\n\u001b[1;32m   5401\u001b[0m         axis\u001b[38;5;241m=\u001b[39maxis,\n\u001b[1;32m   5402\u001b[0m         index\u001b[38;5;241m=\u001b[39mindex,\n\u001b[1;32m   5403\u001b[0m         columns\u001b[38;5;241m=\u001b[39mcolumns,\n\u001b[1;32m   5404\u001b[0m         level\u001b[38;5;241m=\u001b[39mlevel,\n\u001b[1;32m   5405\u001b[0m         inplace\u001b[38;5;241m=\u001b[39minplace,\n\u001b[1;32m   5406\u001b[0m         errors\u001b[38;5;241m=\u001b[39merrors,\n\u001b[1;32m   5407\u001b[0m     )\n",
      "File \u001b[0;32m~/anaconda3/lib/python3.11/site-packages/pandas/util/_decorators.py:331\u001b[0m, in \u001b[0;36mdeprecate_nonkeyword_arguments.<locals>.decorate.<locals>.wrapper\u001b[0;34m(*args, **kwargs)\u001b[0m\n\u001b[1;32m    325\u001b[0m \u001b[38;5;28;01mif\u001b[39;00m \u001b[38;5;28mlen\u001b[39m(args) \u001b[38;5;241m>\u001b[39m num_allow_args:\n\u001b[1;32m    326\u001b[0m     warnings\u001b[38;5;241m.\u001b[39mwarn(\n\u001b[1;32m    327\u001b[0m         msg\u001b[38;5;241m.\u001b[39mformat(arguments\u001b[38;5;241m=\u001b[39m_format_argument_list(allow_args)),\n\u001b[1;32m    328\u001b[0m         \u001b[38;5;167;01mFutureWarning\u001b[39;00m,\n\u001b[1;32m    329\u001b[0m         stacklevel\u001b[38;5;241m=\u001b[39mfind_stack_level(),\n\u001b[1;32m    330\u001b[0m     )\n\u001b[0;32m--> 331\u001b[0m \u001b[38;5;28;01mreturn\u001b[39;00m func(\u001b[38;5;241m*\u001b[39margs, \u001b[38;5;241m*\u001b[39m\u001b[38;5;241m*\u001b[39mkwargs)\n",
      "File \u001b[0;32m~/anaconda3/lib/python3.11/site-packages/pandas/core/generic.py:4505\u001b[0m, in \u001b[0;36mNDFrame.drop\u001b[0;34m(self, labels, axis, index, columns, level, inplace, errors)\u001b[0m\n\u001b[1;32m   4503\u001b[0m \u001b[38;5;28;01mfor\u001b[39;00m axis, labels \u001b[38;5;129;01min\u001b[39;00m axes\u001b[38;5;241m.\u001b[39mitems():\n\u001b[1;32m   4504\u001b[0m     \u001b[38;5;28;01mif\u001b[39;00m labels \u001b[38;5;129;01mis\u001b[39;00m \u001b[38;5;129;01mnot\u001b[39;00m \u001b[38;5;28;01mNone\u001b[39;00m:\n\u001b[0;32m-> 4505\u001b[0m         obj \u001b[38;5;241m=\u001b[39m obj\u001b[38;5;241m.\u001b[39m_drop_axis(labels, axis, level\u001b[38;5;241m=\u001b[39mlevel, errors\u001b[38;5;241m=\u001b[39merrors)\n\u001b[1;32m   4507\u001b[0m \u001b[38;5;28;01mif\u001b[39;00m inplace:\n\u001b[1;32m   4508\u001b[0m     \u001b[38;5;28mself\u001b[39m\u001b[38;5;241m.\u001b[39m_update_inplace(obj)\n",
      "File \u001b[0;32m~/anaconda3/lib/python3.11/site-packages/pandas/core/generic.py:4546\u001b[0m, in \u001b[0;36mNDFrame._drop_axis\u001b[0;34m(self, labels, axis, level, errors, only_slice)\u001b[0m\n\u001b[1;32m   4544\u001b[0m         new_axis \u001b[38;5;241m=\u001b[39m axis\u001b[38;5;241m.\u001b[39mdrop(labels, level\u001b[38;5;241m=\u001b[39mlevel, errors\u001b[38;5;241m=\u001b[39merrors)\n\u001b[1;32m   4545\u001b[0m     \u001b[38;5;28;01melse\u001b[39;00m:\n\u001b[0;32m-> 4546\u001b[0m         new_axis \u001b[38;5;241m=\u001b[39m axis\u001b[38;5;241m.\u001b[39mdrop(labels, errors\u001b[38;5;241m=\u001b[39merrors)\n\u001b[1;32m   4547\u001b[0m     indexer \u001b[38;5;241m=\u001b[39m axis\u001b[38;5;241m.\u001b[39mget_indexer(new_axis)\n\u001b[1;32m   4549\u001b[0m \u001b[38;5;66;03m# Case for non-unique axis\u001b[39;00m\n\u001b[1;32m   4550\u001b[0m \u001b[38;5;28;01melse\u001b[39;00m:\n",
      "File \u001b[0;32m~/anaconda3/lib/python3.11/site-packages/pandas/core/indexes/base.py:6934\u001b[0m, in \u001b[0;36mIndex.drop\u001b[0;34m(self, labels, errors)\u001b[0m\n\u001b[1;32m   6932\u001b[0m \u001b[38;5;28;01mif\u001b[39;00m mask\u001b[38;5;241m.\u001b[39many():\n\u001b[1;32m   6933\u001b[0m     \u001b[38;5;28;01mif\u001b[39;00m errors \u001b[38;5;241m!=\u001b[39m \u001b[38;5;124m\"\u001b[39m\u001b[38;5;124mignore\u001b[39m\u001b[38;5;124m\"\u001b[39m:\n\u001b[0;32m-> 6934\u001b[0m         \u001b[38;5;28;01mraise\u001b[39;00m \u001b[38;5;167;01mKeyError\u001b[39;00m(\u001b[38;5;124mf\u001b[39m\u001b[38;5;124m\"\u001b[39m\u001b[38;5;132;01m{\u001b[39;00m\u001b[38;5;28mlist\u001b[39m(labels[mask])\u001b[38;5;132;01m}\u001b[39;00m\u001b[38;5;124m not found in axis\u001b[39m\u001b[38;5;124m\"\u001b[39m)\n\u001b[1;32m   6935\u001b[0m     indexer \u001b[38;5;241m=\u001b[39m indexer[\u001b[38;5;241m~\u001b[39mmask]\n\u001b[1;32m   6936\u001b[0m \u001b[38;5;28;01mreturn\u001b[39;00m \u001b[38;5;28mself\u001b[39m\u001b[38;5;241m.\u001b[39mdelete(indexer)\n",
      "\u001b[0;31mKeyError\u001b[0m: \"['Price'] not found in axis\""
     ]
    }
   ],
   "source": [
    "# Recommend top 10 products for user 1\n",
    "recommended_products = recommend_products(user_preference_vector, filtered_product_vectors_reduced, top_n=10)\n",
    "print(\"Recommended Products Vectors:\\n\", recommended_products)\n",
    "\n",
    "# Convert recommended_products back to original format\n",
    "recommended_products_ids = recommended_products['Id']\n",
    "recommended_products_original = products[products['Id'].isin(recommended_products_ids)]\n",
    "\n",
    "print(\"Recommended Products in Original Format:\\n\", recommended_products_original)"
   ]
  },
  {
   "cell_type": "code",
   "execution_count": null,
   "id": "38e780d0",
   "metadata": {},
   "outputs": [],
   "source": []
  },
  {
   "cell_type": "code",
   "execution_count": null,
   "id": "fdb1c9f3",
   "metadata": {},
   "outputs": [],
   "source": []
  }
 ],
 "metadata": {
  "kernelspec": {
   "display_name": "Python 3 (ipykernel)",
   "language": "python",
   "name": "python3"
  },
  "language_info": {
   "codemirror_mode": {
    "name": "ipython",
    "version": 3
   },
   "file_extension": ".py",
   "mimetype": "text/x-python",
   "name": "python",
   "nbconvert_exporter": "python",
   "pygments_lexer": "ipython3",
   "version": "3.11.4"
  }
 },
 "nbformat": 4,
 "nbformat_minor": 5
}
